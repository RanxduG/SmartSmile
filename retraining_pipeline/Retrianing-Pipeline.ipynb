{
 "cells": [
  {
   "cell_type": "code",
   "execution_count": 1,
   "id": "b8fec95f-2950-40db-9063-1407df00114f",
   "metadata": {
    "editable": true,
    "slideshow": {
     "slide_type": ""
    },
    "tags": []
   },
   "outputs": [
    {
     "name": "stdout",
     "output_type": "stream",
     "text": [
      "Requirement already satisfied: boto3 in /home/ec2-user/anaconda3/envs/python3/lib/python3.10/site-packages (1.37.21)\n",
      "Requirement already satisfied: sagemaker in /home/ec2-user/anaconda3/envs/python3/lib/python3.10/site-packages (2.242.0)\n",
      "Requirement already satisfied: comet_ml in /home/ec2-user/anaconda3/envs/python3/lib/python3.10/site-packages (3.49.8)\n",
      "Requirement already satisfied: torch in /home/ec2-user/anaconda3/envs/python3/lib/python3.10/site-packages (2.6.0)\n",
      "Requirement already satisfied: torchvision in /home/ec2-user/anaconda3/envs/python3/lib/python3.10/site-packages (0.21.0)\n",
      "Requirement already satisfied: ultralytics in /home/ec2-user/anaconda3/envs/python3/lib/python3.10/site-packages (8.3.111)\n",
      "Requirement already satisfied: botocore<1.38.0,>=1.37.21 in /home/ec2-user/anaconda3/envs/python3/lib/python3.10/site-packages (from boto3) (1.37.21)\n",
      "Requirement already satisfied: jmespath<2.0.0,>=0.7.1 in /home/ec2-user/anaconda3/envs/python3/lib/python3.10/site-packages (from boto3) (1.0.1)\n",
      "Requirement already satisfied: s3transfer<0.12.0,>=0.11.0 in /home/ec2-user/anaconda3/envs/python3/lib/python3.10/site-packages (from boto3) (0.11.2)\n",
      "Requirement already satisfied: attrs<24,>=23.1.0 in /home/ec2-user/anaconda3/envs/python3/lib/python3.10/site-packages (from sagemaker) (23.2.0)\n",
      "Requirement already satisfied: cloudpickle>=2.2.1 in /home/ec2-user/anaconda3/envs/python3/lib/python3.10/site-packages (from sagemaker) (3.1.1)\n",
      "Requirement already satisfied: docker in /home/ec2-user/anaconda3/envs/python3/lib/python3.10/site-packages (from sagemaker) (7.1.0)\n",
      "Requirement already satisfied: fastapi in /home/ec2-user/anaconda3/envs/python3/lib/python3.10/site-packages (from sagemaker) (0.115.12)\n",
      "Requirement already satisfied: google-pasta in /home/ec2-user/anaconda3/envs/python3/lib/python3.10/site-packages (from sagemaker) (0.2.0)\n",
      "Requirement already satisfied: importlib-metadata<7.0,>=1.4.0 in /home/ec2-user/anaconda3/envs/python3/lib/python3.10/site-packages (from sagemaker) (6.11.0)\n",
      "Requirement already satisfied: jsonschema in /home/ec2-user/anaconda3/envs/python3/lib/python3.10/site-packages (from sagemaker) (4.23.0)\n",
      "Requirement already satisfied: numpy<2.0,>=1.9.0 in /home/ec2-user/anaconda3/envs/python3/lib/python3.10/site-packages (from sagemaker) (1.26.4)\n",
      "Requirement already satisfied: omegaconf<=2.3,>=2.2 in /home/ec2-user/anaconda3/envs/python3/lib/python3.10/site-packages (from sagemaker) (2.3.0)\n",
      "Requirement already satisfied: packaging>=20.0 in /home/ec2-user/anaconda3/envs/python3/lib/python3.10/site-packages (from sagemaker) (21.3)\n",
      "Requirement already satisfied: pandas in /home/ec2-user/anaconda3/envs/python3/lib/python3.10/site-packages (from sagemaker) (1.5.3)\n",
      "Requirement already satisfied: pathos in /home/ec2-user/anaconda3/envs/python3/lib/python3.10/site-packages (from sagemaker) (0.3.3)\n",
      "Requirement already satisfied: platformdirs in /home/ec2-user/anaconda3/envs/python3/lib/python3.10/site-packages (from sagemaker) (4.3.6)\n",
      "Requirement already satisfied: protobuf<6.0,>=3.12 in /home/ec2-user/anaconda3/envs/python3/lib/python3.10/site-packages (from sagemaker) (5.29.4)\n",
      "Requirement already satisfied: psutil in /home/ec2-user/anaconda3/envs/python3/lib/python3.10/site-packages (from sagemaker) (6.1.1)\n",
      "Requirement already satisfied: pyyaml~=6.0 in /home/ec2-user/anaconda3/envs/python3/lib/python3.10/site-packages (from sagemaker) (6.0.2)\n",
      "Requirement already satisfied: requests in /home/ec2-user/anaconda3/envs/python3/lib/python3.10/site-packages (from sagemaker) (2.32.3)\n",
      "Requirement already satisfied: sagemaker-core<2.0.0,>=1.0.17 in /home/ec2-user/anaconda3/envs/python3/lib/python3.10/site-packages (from sagemaker) (1.0.26)\n",
      "Requirement already satisfied: schema in /home/ec2-user/anaconda3/envs/python3/lib/python3.10/site-packages (from sagemaker) (0.7.7)\n",
      "Requirement already satisfied: smdebug-rulesconfig==1.0.1 in /home/ec2-user/anaconda3/envs/python3/lib/python3.10/site-packages (from sagemaker) (1.0.1)\n",
      "Requirement already satisfied: tblib<4,>=1.7.0 in /home/ec2-user/anaconda3/envs/python3/lib/python3.10/site-packages (from sagemaker) (3.0.0)\n",
      "Requirement already satisfied: tqdm in /home/ec2-user/anaconda3/envs/python3/lib/python3.10/site-packages (from sagemaker) (4.67.1)\n",
      "Requirement already satisfied: urllib3<3.0.0,>=1.26.8 in /home/ec2-user/anaconda3/envs/python3/lib/python3.10/site-packages (from sagemaker) (2.3.0)\n",
      "Requirement already satisfied: uvicorn in /home/ec2-user/anaconda3/envs/python3/lib/python3.10/site-packages (from sagemaker) (0.34.0)\n",
      "Requirement already satisfied: dulwich!=0.20.33,>=0.20.6 in /home/ec2-user/anaconda3/envs/python3/lib/python3.10/site-packages (from comet_ml) (0.22.8)\n",
      "Requirement already satisfied: everett<3.2.0,>=1.0.1 in /home/ec2-user/anaconda3/envs/python3/lib/python3.10/site-packages (from everett[ini]<3.2.0,>=1.0.1->comet_ml) (3.1.0)\n",
      "Requirement already satisfied: python-box<7.0.0 in /home/ec2-user/anaconda3/envs/python3/lib/python3.10/site-packages (from comet_ml) (6.1.0)\n",
      "Requirement already satisfied: requests-toolbelt>=0.8.0 in /home/ec2-user/anaconda3/envs/python3/lib/python3.10/site-packages (from comet_ml) (1.0.0)\n",
      "Requirement already satisfied: rich>=13.3.2 in /home/ec2-user/anaconda3/envs/python3/lib/python3.10/site-packages (from comet_ml) (13.9.4)\n",
      "Requirement already satisfied: semantic-version>=2.8.0 in /home/ec2-user/anaconda3/envs/python3/lib/python3.10/site-packages (from comet_ml) (2.10.0)\n",
      "Requirement already satisfied: sentry-sdk>=1.1.0 in /home/ec2-user/anaconda3/envs/python3/lib/python3.10/site-packages (from comet_ml) (2.26.1)\n",
      "Requirement already satisfied: simplejson in /home/ec2-user/anaconda3/envs/python3/lib/python3.10/site-packages (from comet_ml) (3.20.1)\n",
      "Requirement already satisfied: wrapt>=1.11.2 in /home/ec2-user/anaconda3/envs/python3/lib/python3.10/site-packages (from comet_ml) (1.17.2)\n",
      "Requirement already satisfied: wurlitzer>=1.0.2 in /home/ec2-user/anaconda3/envs/python3/lib/python3.10/site-packages (from comet_ml) (3.1.1)\n",
      "Requirement already satisfied: filelock in /home/ec2-user/anaconda3/envs/python3/lib/python3.10/site-packages (from torch) (3.17.0)\n",
      "Requirement already satisfied: typing-extensions>=4.10.0 in /home/ec2-user/anaconda3/envs/python3/lib/python3.10/site-packages (from torch) (4.12.2)\n",
      "Requirement already satisfied: networkx in /home/ec2-user/anaconda3/envs/python3/lib/python3.10/site-packages (from torch) (3.4)\n",
      "Requirement already satisfied: jinja2 in /home/ec2-user/anaconda3/envs/python3/lib/python3.10/site-packages (from torch) (3.1.5)\n",
      "Requirement already satisfied: fsspec in /home/ec2-user/anaconda3/envs/python3/lib/python3.10/site-packages (from torch) (2025.2.0)\n",
      "Requirement already satisfied: nvidia-cuda-nvrtc-cu12==12.4.127 in /home/ec2-user/anaconda3/envs/python3/lib/python3.10/site-packages (from torch) (12.4.127)\n",
      "Requirement already satisfied: nvidia-cuda-runtime-cu12==12.4.127 in /home/ec2-user/anaconda3/envs/python3/lib/python3.10/site-packages (from torch) (12.4.127)\n",
      "Requirement already satisfied: nvidia-cuda-cupti-cu12==12.4.127 in /home/ec2-user/anaconda3/envs/python3/lib/python3.10/site-packages (from torch) (12.4.127)\n",
      "Requirement already satisfied: nvidia-cudnn-cu12==9.1.0.70 in /home/ec2-user/anaconda3/envs/python3/lib/python3.10/site-packages (from torch) (9.1.0.70)\n",
      "Requirement already satisfied: nvidia-cublas-cu12==12.4.5.8 in /home/ec2-user/anaconda3/envs/python3/lib/python3.10/site-packages (from torch) (12.4.5.8)\n",
      "Requirement already satisfied: nvidia-cufft-cu12==11.2.1.3 in /home/ec2-user/anaconda3/envs/python3/lib/python3.10/site-packages (from torch) (11.2.1.3)\n",
      "Requirement already satisfied: nvidia-curand-cu12==10.3.5.147 in /home/ec2-user/anaconda3/envs/python3/lib/python3.10/site-packages (from torch) (10.3.5.147)\n",
      "Requirement already satisfied: nvidia-cusolver-cu12==11.6.1.9 in /home/ec2-user/anaconda3/envs/python3/lib/python3.10/site-packages (from torch) (11.6.1.9)\n",
      "Requirement already satisfied: nvidia-cusparse-cu12==12.3.1.170 in /home/ec2-user/anaconda3/envs/python3/lib/python3.10/site-packages (from torch) (12.3.1.170)\n",
      "Requirement already satisfied: nvidia-cusparselt-cu12==0.6.2 in /home/ec2-user/anaconda3/envs/python3/lib/python3.10/site-packages (from torch) (0.6.2)\n",
      "Requirement already satisfied: nvidia-nccl-cu12==2.21.5 in /home/ec2-user/anaconda3/envs/python3/lib/python3.10/site-packages (from torch) (2.21.5)\n",
      "Requirement already satisfied: nvidia-nvtx-cu12==12.4.127 in /home/ec2-user/anaconda3/envs/python3/lib/python3.10/site-packages (from torch) (12.4.127)\n",
      "Requirement already satisfied: nvidia-nvjitlink-cu12==12.4.127 in /home/ec2-user/anaconda3/envs/python3/lib/python3.10/site-packages (from torch) (12.4.127)\n",
      "Requirement already satisfied: triton==3.2.0 in /home/ec2-user/anaconda3/envs/python3/lib/python3.10/site-packages (from torch) (3.2.0)\n",
      "Requirement already satisfied: sympy==1.13.1 in /home/ec2-user/anaconda3/envs/python3/lib/python3.10/site-packages (from torch) (1.13.1)\n",
      "Requirement already satisfied: mpmath<1.4,>=1.1.0 in /home/ec2-user/anaconda3/envs/python3/lib/python3.10/site-packages (from sympy==1.13.1->torch) (1.3.0)\n",
      "Requirement already satisfied: pillow!=8.3.*,>=5.3.0 in /home/ec2-user/anaconda3/envs/python3/lib/python3.10/site-packages (from torchvision) (11.1.0)\n",
      "Requirement already satisfied: matplotlib>=3.3.0 in /home/ec2-user/anaconda3/envs/python3/lib/python3.10/site-packages (from ultralytics) (3.10.0)\n",
      "Requirement already satisfied: opencv-python>=4.6.0 in /home/ec2-user/anaconda3/envs/python3/lib/python3.10/site-packages (from ultralytics) (4.11.0.86)\n",
      "Requirement already satisfied: scipy>=1.4.1 in /home/ec2-user/anaconda3/envs/python3/lib/python3.10/site-packages (from ultralytics) (1.15.1)\n",
      "Requirement already satisfied: py-cpuinfo in /home/ec2-user/anaconda3/envs/python3/lib/python3.10/site-packages (from ultralytics) (9.0.0)\n",
      "Requirement already satisfied: seaborn>=0.11.0 in /home/ec2-user/anaconda3/envs/python3/lib/python3.10/site-packages (from ultralytics) (0.13.2)\n",
      "Requirement already satisfied: ultralytics-thop>=2.0.0 in /home/ec2-user/anaconda3/envs/python3/lib/python3.10/site-packages (from ultralytics) (2.0.14)\n",
      "Requirement already satisfied: python-dateutil<3.0.0,>=2.1 in /home/ec2-user/anaconda3/envs/python3/lib/python3.10/site-packages (from botocore<1.38.0,>=1.37.21->boto3) (2.9.0.post0)\n",
      "Requirement already satisfied: configobj in /home/ec2-user/anaconda3/envs/python3/lib/python3.10/site-packages (from everett[ini]<3.2.0,>=1.0.1->comet_ml) (5.0.9)\n",
      "Requirement already satisfied: zipp>=0.5 in /home/ec2-user/anaconda3/envs/python3/lib/python3.10/site-packages (from importlib-metadata<7.0,>=1.4.0->sagemaker) (3.21.0)\n",
      "Requirement already satisfied: jsonschema-specifications>=2023.03.6 in /home/ec2-user/anaconda3/envs/python3/lib/python3.10/site-packages (from jsonschema->sagemaker) (2024.10.1)\n",
      "Requirement already satisfied: referencing>=0.28.4 in /home/ec2-user/anaconda3/envs/python3/lib/python3.10/site-packages (from jsonschema->sagemaker) (0.36.2)\n",
      "Requirement already satisfied: rpds-py>=0.7.1 in /home/ec2-user/anaconda3/envs/python3/lib/python3.10/site-packages (from jsonschema->sagemaker) (0.22.3)\n",
      "Requirement already satisfied: contourpy>=1.0.1 in /home/ec2-user/anaconda3/envs/python3/lib/python3.10/site-packages (from matplotlib>=3.3.0->ultralytics) (1.3.1)\n",
      "Requirement already satisfied: cycler>=0.10 in /home/ec2-user/anaconda3/envs/python3/lib/python3.10/site-packages (from matplotlib>=3.3.0->ultralytics) (0.12.1)\n",
      "Requirement already satisfied: fonttools>=4.22.0 in /home/ec2-user/anaconda3/envs/python3/lib/python3.10/site-packages (from matplotlib>=3.3.0->ultralytics) (4.56.0)\n",
      "Requirement already satisfied: kiwisolver>=1.3.1 in /home/ec2-user/anaconda3/envs/python3/lib/python3.10/site-packages (from matplotlib>=3.3.0->ultralytics) (1.4.7)\n",
      "Requirement already satisfied: pyparsing>=2.3.1 in /home/ec2-user/anaconda3/envs/python3/lib/python3.10/site-packages (from matplotlib>=3.3.0->ultralytics) (3.2.1)\n",
      "Requirement already satisfied: antlr4-python3-runtime==4.9.* in /home/ec2-user/anaconda3/envs/python3/lib/python3.10/site-packages (from omegaconf<=2.3,>=2.2->sagemaker) (4.9.3)\n",
      "Requirement already satisfied: pytz>=2020.1 in /home/ec2-user/anaconda3/envs/python3/lib/python3.10/site-packages (from pandas->sagemaker) (2025.1)\n",
      "Requirement already satisfied: charset_normalizer<4,>=2 in /home/ec2-user/anaconda3/envs/python3/lib/python3.10/site-packages (from requests->sagemaker) (3.4.1)\n",
      "Requirement already satisfied: idna<4,>=2.5 in /home/ec2-user/anaconda3/envs/python3/lib/python3.10/site-packages (from requests->sagemaker) (3.10)\n",
      "Requirement already satisfied: certifi>=2017.4.17 in /home/ec2-user/anaconda3/envs/python3/lib/python3.10/site-packages (from requests->sagemaker) (2025.1.31)\n",
      "Requirement already satisfied: markdown-it-py>=2.2.0 in /home/ec2-user/anaconda3/envs/python3/lib/python3.10/site-packages (from rich>=13.3.2->comet_ml) (3.0.0)\n",
      "Requirement already satisfied: pygments<3.0.0,>=2.13.0 in /home/ec2-user/anaconda3/envs/python3/lib/python3.10/site-packages (from rich>=13.3.2->comet_ml) (2.19.1)\n",
      "Requirement already satisfied: pydantic<3.0.0,>=2.0.0 in /home/ec2-user/anaconda3/envs/python3/lib/python3.10/site-packages (from sagemaker-core<2.0.0,>=1.0.17->sagemaker) (2.10.6)\n",
      "Requirement already satisfied: mock<5.0,>4.0 in /home/ec2-user/anaconda3/envs/python3/lib/python3.10/site-packages (from sagemaker-core<2.0.0,>=1.0.17->sagemaker) (4.0.3)\n",
      "Requirement already satisfied: starlette<0.47.0,>=0.40.0 in /home/ec2-user/anaconda3/envs/python3/lib/python3.10/site-packages (from fastapi->sagemaker) (0.46.1)\n",
      "Requirement already satisfied: six in /home/ec2-user/anaconda3/envs/python3/lib/python3.10/site-packages (from google-pasta->sagemaker) (1.17.0)\n",
      "Requirement already satisfied: MarkupSafe>=2.0 in /home/ec2-user/anaconda3/envs/python3/lib/python3.10/site-packages (from jinja2->torch) (3.0.2)\n",
      "Requirement already satisfied: ppft>=1.7.6.9 in /home/ec2-user/anaconda3/envs/python3/lib/python3.10/site-packages (from pathos->sagemaker) (1.7.6.9)\n",
      "Requirement already satisfied: dill>=0.3.9 in /home/ec2-user/anaconda3/envs/python3/lib/python3.10/site-packages (from pathos->sagemaker) (0.3.9)\n",
      "Requirement already satisfied: pox>=0.3.5 in /home/ec2-user/anaconda3/envs/python3/lib/python3.10/site-packages (from pathos->sagemaker) (0.3.5)\n",
      "Requirement already satisfied: multiprocess>=0.70.17 in /home/ec2-user/anaconda3/envs/python3/lib/python3.10/site-packages (from pathos->sagemaker) (0.70.17)\n",
      "Requirement already satisfied: click>=7.0 in /home/ec2-user/anaconda3/envs/python3/lib/python3.10/site-packages (from uvicorn->sagemaker) (8.1.8)\n",
      "Requirement already satisfied: h11>=0.8 in /home/ec2-user/anaconda3/envs/python3/lib/python3.10/site-packages (from uvicorn->sagemaker) (0.14.0)\n",
      "Requirement already satisfied: mdurl~=0.1 in /home/ec2-user/anaconda3/envs/python3/lib/python3.10/site-packages (from markdown-it-py>=2.2.0->rich>=13.3.2->comet_ml) (0.1.2)\n",
      "Requirement already satisfied: annotated-types>=0.6.0 in /home/ec2-user/anaconda3/envs/python3/lib/python3.10/site-packages (from pydantic<3.0.0,>=2.0.0->sagemaker-core<2.0.0,>=1.0.17->sagemaker) (0.7.0)\n",
      "Requirement already satisfied: pydantic-core==2.27.2 in /home/ec2-user/anaconda3/envs/python3/lib/python3.10/site-packages (from pydantic<3.0.0,>=2.0.0->sagemaker-core<2.0.0,>=1.0.17->sagemaker) (2.27.2)\n",
      "Requirement already satisfied: anyio<5,>=3.6.2 in /home/ec2-user/anaconda3/envs/python3/lib/python3.10/site-packages (from starlette<0.47.0,>=0.40.0->fastapi->sagemaker) (4.8.0)\n",
      "Requirement already satisfied: exceptiongroup>=1.0.2 in /home/ec2-user/anaconda3/envs/python3/lib/python3.10/site-packages (from anyio<5,>=3.6.2->starlette<0.47.0,>=0.40.0->fastapi->sagemaker) (1.2.2)\n",
      "Requirement already satisfied: sniffio>=1.1 in /home/ec2-user/anaconda3/envs/python3/lib/python3.10/site-packages (from anyio<5,>=3.6.2->starlette<0.47.0,>=0.40.0->fastapi->sagemaker) (1.3.1)\n"
     ]
    }
   ],
   "source": [
    "!pip install boto3 sagemaker comet_ml torch torchvision ultralytics"
   ]
  },
  {
   "cell_type": "markdown",
   "id": "68e2fc3a-0e7c-41e5-8849-a86bdb8a7a6c",
   "metadata": {},
   "source": [
    "# Install Libraries"
   ]
  },
  {
   "cell_type": "code",
   "execution_count": 2,
   "id": "56c77dce-84f3-4142-9e09-8388b14a3a9d",
   "metadata": {},
   "outputs": [],
   "source": [
    "import boto3\n",
    "import os\n",
    "import random\n",
    "import shutil\n",
    "from pathlib import Path\n",
    "from datetime import datetime\n",
    "from ultralytics import YOLO\n",
    "import comet_ml"
   ]
  },
  {
   "cell_type": "markdown",
   "id": "dffda56e-f14c-4e8d-bfe0-d1e3864729fe",
   "metadata": {},
   "source": [
    "# Connect to S3"
   ]
  },
  {
   "cell_type": "code",
   "execution_count": 3,
   "id": "bdfd280b-e42c-48ea-8053-db17e53be7b9",
   "metadata": {},
   "outputs": [],
   "source": [
    "# Setup boto3 clients\n",
    "s3 = boto3.client('s3')\n",
    "ssm = boto3.client('ssm')"
   ]
  },
  {
   "cell_type": "code",
   "execution_count": 4,
   "id": "8f35ec8f-c300-4bde-a70c-de6598c7c777",
   "metadata": {},
   "outputs": [],
   "source": [
    "# Get parameters from SSM\n",
    "def get_parameters():\n",
    "    response = ssm.get_parameters(\n",
    "        Names=[\n",
    "            '/edge-ai/bucket-name',\n",
    "            '/edge-ai/comet-ml-api-key'\n",
    "        ],\n",
    "        WithDecryption=True\n",
    "    )\n",
    "    return {param['Name'].split('/')[-1]: param['Value'] for param in response['Parameters']}"
   ]
  },
  {
   "cell_type": "code",
   "execution_count": 5,
   "id": "9dbbfd23-6461-41f0-a773-2f1dc0fc16fd",
   "metadata": {},
   "outputs": [],
   "source": [
    "params = get_parameters()\n",
    "BUCKET_NAME = params['bucket-name']\n",
    "COMET_ML_API_KEY = params['comet-ml-api-key']"
   ]
  },
  {
   "cell_type": "code",
   "execution_count": 6,
   "id": "d98b27e7-c0a6-4979-9889-08c773660358",
   "metadata": {
    "editable": true,
    "slideshow": {
     "slide_type": ""
    },
    "tags": []
   },
   "outputs": [],
   "source": [
    "# S3 paths\n",
    "s3_img_prefix = 'training_data/new_data/images/'\n",
    "s3_lbl_prefix = 'training_data/new_data/txt_files/'\n",
    "\n",
    "# Local directories\n",
    "base_dir = Path('/home/ec2-user/SageMaker/tmp/datasets')\n",
    "train_img_dir = base_dir / 'train/images'\n",
    "train_lbl_dir = base_dir / 'train/labels'\n",
    "val_img_dir = base_dir / 'val/images'\n",
    "val_lbl_dir = base_dir / 'val/labels'"
   ]
  },
  {
   "cell_type": "code",
   "execution_count": 7,
   "id": "9b811f4d-9838-43cb-ba79-77ffbcf80201",
   "metadata": {},
   "outputs": [],
   "source": [
    "# Create folders\n",
    "for path in [train_img_dir, train_lbl_dir, val_img_dir, val_lbl_dir]:\n",
    "    path.mkdir(parents=True, exist_ok=True)"
   ]
  },
  {
   "cell_type": "markdown",
   "id": "c9509eb5-cd5e-4928-9358-5bbb156103c5",
   "metadata": {},
   "source": [
    "# Load New Image Data"
   ]
  },
  {
   "cell_type": "code",
   "execution_count": 8,
   "id": "bae2ca02-0626-4cc8-a22d-2b358cbbd96b",
   "metadata": {},
   "outputs": [
    {
     "name": "stdout",
     "output_type": "stream",
     "text": [
      "Done number of images 11\n"
     ]
    }
   ],
   "source": [
    "# List images\n",
    "img_objs = s3.list_objects_v2(Bucket=BUCKET_NAME, Prefix=s3_img_prefix).get('Contents', [])\n",
    "img_keys = [obj['Key'] for obj in img_objs if obj['Key'].endswith(('.jpg', '.png'))]\n",
    "print(f\"Done number of images {len(img_keys)}\")"
   ]
  },
  {
   "cell_type": "markdown",
   "id": "b2bf8ab5-9161-470d-ac98-2142a471f67e",
   "metadata": {},
   "source": [
    "# Preprocess Images"
   ]
  },
  {
   "cell_type": "code",
   "execution_count": 9,
   "id": "b3b2a930-53a8-4e33-83d4-ab77f0387938",
   "metadata": {},
   "outputs": [
    {
     "name": "stdout",
     "output_type": "stream",
     "text": [
      "['training_data/new_data/images/10_789_20250419155551.jpg']\n",
      "['training_data/new_data/images/2_VRFReMfzWFVwbyL3cu5vcaQGu5N2_20250419162802.jpg', 'training_data/new_data/images/1_789_20250419120151.jpg', 'training_data/new_data/images/3_789_20250419121525.jpg', 'training_data/new_data/images/2_789_20250419121153.jpg', 'training_data/new_data/images/1_VRFReMfzWFVwbyL3cu5vcaQGu5N2_20250419162627.jpg', 'training_data/new_data/images/5_789_20250419121631.jpg', 'training_data/new_data/images/9_789_20250419155239.jpg', 'training_data/new_data/images/8_789_20250419153055.jpg', 'training_data/new_data/images/11_789_20250419160133.jpg', 'training_data/new_data/images/4_789_20250419121603.jpg']\n"
     ]
    }
   ],
   "source": [
    "# Random split\n",
    "random.shuffle(img_keys)\n",
    "split_idx = int(len(img_keys) * 0.1)\n",
    "val_keys = img_keys[:split_idx]\n",
    "train_keys = img_keys[split_idx:]\n",
    "print(val_keys)\n",
    "print(train_keys)"
   ]
  },
  {
   "cell_type": "code",
   "execution_count": 10,
   "id": "c136de69-3a3f-4358-af8f-3b2a8ff671d3",
   "metadata": {},
   "outputs": [],
   "source": [
    "def download_and_place(keys, img_dest, lbl_dest):\n",
    "    for key in keys:\n",
    "        filename = os.path.basename(key)\n",
    "        label_filename = filename.rsplit('.', 1)[0] + '.txt'\n",
    "        label_key = s3_lbl_prefix + label_filename\n",
    "\n",
    "        # Download image\n",
    "        s3.download_file(BUCKET_NAME, key, str(img_dest / filename))\n",
    "        \n",
    "        # Download label if exists\n",
    "        try:\n",
    "            s3.download_file(BUCKET_NAME, label_key, str(lbl_dest / label_filename))\n",
    "        except:\n",
    "            print(f\"Label file not found for {filename}, skipping.\")"
   ]
  },
  {
   "cell_type": "code",
   "execution_count": 11,
   "id": "6bebee63-7bcd-4348-bf9c-78fde53c9464",
   "metadata": {},
   "outputs": [
    {
     "name": "stdout",
     "output_type": "stream",
     "text": [
      "✅ Data prepared in /tmp/datasets/\n"
     ]
    }
   ],
   "source": [
    "# Download images & labels\n",
    "download_and_place(train_keys, train_img_dir, train_lbl_dir)\n",
    "download_and_place(val_keys, val_img_dir, val_lbl_dir)\n",
    "\n",
    "print(\"✅ Data prepared in /tmp/datasets/\")"
   ]
  },
  {
   "cell_type": "markdown",
   "id": "3322cf01-77a1-46b4-87d0-0a74aadf1581",
   "metadata": {},
   "source": [
    "# Load yaml file"
   ]
  },
  {
   "cell_type": "code",
   "execution_count": 12,
   "id": "0f162830-12f9-4c5b-9f45-9162bbe14e67",
   "metadata": {},
   "outputs": [
    {
     "name": "stdout",
     "output_type": "stream",
     "text": [
      "✅ Downloaded data.yaml to /home/ec2-user/SageMaker/tmp/datasets/data.yaml\n"
     ]
    }
   ],
   "source": [
    "yaml_key = 'training_data/new_data/data.yaml'\n",
    "\n",
    "# Local path\n",
    "local_yaml_path = Path('/home/ec2-user/SageMaker/tmp/datasets/data.yaml')\n",
    "local_yaml_path.parent.mkdir(parents=True, exist_ok=True)\n",
    "\n",
    "# Download data.yaml\n",
    "s3.download_file(Bucket=BUCKET_NAME, Key=yaml_key, Filename=str(local_yaml_path))\n",
    "\n",
    "print(f\"✅ Downloaded data.yaml to {local_yaml_path}\")"
   ]
  },
  {
   "cell_type": "markdown",
   "id": "0b05587c-833f-40c6-b975-efb63c5e2b10",
   "metadata": {},
   "source": [
    "# Load Latest Model"
   ]
  },
  {
   "cell_type": "code",
   "execution_count": 13,
   "id": "8fa1dd0f-ec04-42b8-a3f7-af0a88469e72",
   "metadata": {},
   "outputs": [
    {
     "name": "stdout",
     "output_type": "stream",
     "text": [
      "✅ Downloaded latest model to tmp/datasets/latest_model.pt from s3 location: models/2025/04/19/last.pt\n"
     ]
    }
   ],
   "source": [
    "# List all model files and find the latest one\n",
    "def get_latest_model_key(bucket_name):\n",
    "    paginator = s3.get_paginator('list_objects_v2')\n",
    "    result = paginator.paginate(Bucket=bucket_name, Prefix='models/')\n",
    "\n",
    "    latest_key = None\n",
    "    latest_time = datetime.min\n",
    "\n",
    "    for page in result:\n",
    "        for obj in page.get('Contents', []):\n",
    "            key = obj['Key']\n",
    "            if key.endswith('last.pt'):\n",
    "                try:\n",
    "                    parts = key.split('/')\n",
    "                    date_str = f\"{parts[1]}-{parts[2]}-{parts[3]}\"\n",
    "                    obj_date = datetime.strptime(date_str, '%Y-%m-%d')\n",
    "\n",
    "                    if obj_date > latest_time:\n",
    "                        latest_time = obj_date\n",
    "                        latest_key = key\n",
    "                except (IndexError, ValueError):\n",
    "                    continue\n",
    "\n",
    "    return latest_key\n",
    "\n",
    "# Get the latest model key\n",
    "latest_model_key = get_latest_model_key(BUCKET_NAME)\n",
    "\n",
    "if latest_model_key:\n",
    "    local_model_path = Path('./tmp/datasets/latest_model.pt')\n",
    "    s3.download_file(BUCKET_NAME, latest_model_key, str(local_model_path))\n",
    "    print(f\"✅ Downloaded latest model to {local_model_path} from s3 location: {latest_model_key}\")\n",
    "else:\n",
    "    print(\"❌ No model file found.\")"
   ]
  },
  {
   "cell_type": "markdown",
   "id": "06ec487a-ac88-499d-bf48-ed1b2fdc9d9d",
   "metadata": {},
   "source": [
    "# Retrain Model"
   ]
  },
  {
   "cell_type": "code",
   "execution_count": 14,
   "id": "ff1f5ad8-2e73-45a5-affd-c310dc41b3b4",
   "metadata": {},
   "outputs": [],
   "source": [
    "comet_ml_api_key = COMET_ML_API_KEY"
   ]
  },
  {
   "cell_type": "code",
   "execution_count": 15,
   "id": "6b170fdd-fbbf-4ef9-94c6-b40bdfc6a7c7",
   "metadata": {},
   "outputs": [],
   "source": [
    "# Set your Comet Api Key\n",
    "!export COMET_API_KEY=comet_ml_api_key"
   ]
  },
  {
   "cell_type": "code",
   "execution_count": 16,
   "id": "7bbb372a-11ad-47d5-8834-8b63c4e5e375",
   "metadata": {},
   "outputs": [],
   "source": [
    "comet_ml.login(project_name=\"IoT\")"
   ]
  },
  {
   "cell_type": "code",
   "execution_count": 17,
   "id": "97011159-6f4c-4050-bb4b-8bb968d0d35b",
   "metadata": {},
   "outputs": [
    {
     "name": "stdout",
     "output_type": "stream",
     "text": [
      "Ultralytics 8.3.111 🚀 Python-3.10.16 torch-2.6.0+cu124 CUDA:0 (Tesla T4, 14918MiB)\n",
      "\u001b[34m\u001b[1mengine/trainer: \u001b[0mtask=detect, mode=train, model=tmp/datasets/latest_model.pt, data=/home/ec2-user/SageMaker/tmp/datasets/data.yaml, epochs=10, time=None, patience=100, batch=8, imgsz=640, save=True, save_period=1, cache=False, device=None, workers=8, project=IoT, name=train, exist_ok=False, pretrained=True, optimizer=auto, verbose=True, seed=0, deterministic=True, single_cls=False, rect=False, cos_lr=False, close_mosaic=10, resume=False, amp=True, fraction=1.0, profile=False, freeze=None, multi_scale=False, overlap_mask=True, mask_ratio=4, dropout=0.0, val=True, split=val, save_json=True, conf=None, iou=0.7, max_det=300, half=False, dnn=False, plots=True, source=None, vid_stride=1, stream_buffer=False, visualize=False, augment=False, agnostic_nms=False, classes=None, retina_masks=False, embed=None, show=False, save_frames=False, save_txt=False, save_conf=False, save_crop=False, show_labels=True, show_conf=True, show_boxes=True, line_width=None, format=torchscript, keras=False, optimize=False, int8=False, dynamic=False, simplify=True, opset=None, workspace=None, nms=False, lr0=0.01, lrf=0.01, momentum=0.937, weight_decay=0.0005, warmup_epochs=3.0, warmup_momentum=0.8, warmup_bias_lr=0.1, box=7.5, cls=0.5, dfl=1.5, pose=12.0, kobj=1.0, nbs=64, hsv_h=0.015, hsv_s=0.7, hsv_v=0.4, degrees=0.0, translate=0.1, scale=0.5, shear=0.0, perspective=0.0, flipud=0.0, fliplr=0.5, bgr=0.0, mosaic=1.0, mixup=0.0, copy_paste=0.0, copy_paste_mode=flip, auto_augment=randaugment, erasing=0.4, cfg=None, tracker=botsort.yaml, save_dir=IoT/train\n",
      "\n",
      "                   from  n    params  module                                       arguments                     \n",
      "  0                  -1  1      2320  ultralytics.nn.modules.conv.Conv             [3, 80, 3, 2]                 \n",
      "  1                  -1  1    115520  ultralytics.nn.modules.conv.Conv             [80, 160, 3, 2]               \n",
      "  2                  -1  3    436800  ultralytics.nn.modules.block.C2f             [160, 160, 3, True]           \n",
      "  3                  -1  1    461440  ultralytics.nn.modules.conv.Conv             [160, 320, 3, 2]              \n",
      "  4                  -1  6   3281920  ultralytics.nn.modules.block.C2f             [320, 320, 6, True]           \n",
      "  5                  -1  1    213120  ultralytics.nn.modules.block.SCDown          [320, 640, 3, 2]              \n",
      "  6                  -1  6   4604160  ultralytics.nn.modules.block.C2fCIB          [640, 640, 6, True]           \n",
      "  7                  -1  1    417920  ultralytics.nn.modules.block.SCDown          [640, 640, 3, 2]              \n",
      "  8                  -1  3   2712960  ultralytics.nn.modules.block.C2fCIB          [640, 640, 3, True]           \n",
      "  9                  -1  1   1025920  ultralytics.nn.modules.block.SPPF            [640, 640, 5]                 \n",
      " 10                  -1  1   1545920  ultralytics.nn.modules.block.PSA             [640, 640]                    \n",
      " 11                  -1  1         0  torch.nn.modules.upsampling.Upsample         [None, 2, 'nearest']          \n",
      " 12             [-1, 6]  1         0  ultralytics.nn.modules.conv.Concat           [1]                           \n",
      " 13                  -1  3   3122560  ultralytics.nn.modules.block.C2fCIB          [1280, 640, 3, True]          \n",
      " 14                  -1  1         0  torch.nn.modules.upsampling.Upsample         [None, 2, 'nearest']          \n",
      " 15             [-1, 4]  1         0  ultralytics.nn.modules.conv.Concat           [1]                           \n",
      " 16                  -1  3   1948800  ultralytics.nn.modules.block.C2f             [960, 320, 3]                 \n",
      " 17                  -1  1    922240  ultralytics.nn.modules.conv.Conv             [320, 320, 3, 2]              \n",
      " 18            [-1, 13]  1         0  ultralytics.nn.modules.conv.Concat           [1]                           \n",
      " 19                  -1  3   2917760  ultralytics.nn.modules.block.C2fCIB          [960, 640, 3, True]           \n",
      " 20                  -1  1    417920  ultralytics.nn.modules.block.SCDown          [640, 640, 3, 2]              \n",
      " 21            [-1, 10]  1         0  ultralytics.nn.modules.conv.Concat           [1]                           \n",
      " 22                  -1  3   3122560  ultralytics.nn.modules.block.C2fCIB          [1280, 640, 3, True]          \n",
      " 23        [16, 19, 22]  1   4404300  ultralytics.nn.modules.head.v10Detect        [10, [320, 640, 640]]         \n",
      "YOLOv10x summary: 400 layers, 31,674,140 parameters, 31,674,124 gradients, 171.1 GFLOPs\n",
      "\n",
      "Transferred 1135/1135 items from pretrained weights\n"
     ]
    },
    {
     "name": "stderr",
     "output_type": "stream",
     "text": [
      "\u001b[1;38;5;214mCOMET WARNING:\u001b[0m To get all data logged automatically, import comet_ml before the following modules: torch.\n",
      "\u001b[1;38;5;214mCOMET WARNING:\u001b[0m As you are running in a Jupyter environment, you will need to call `experiment.end()` when finished to ensure all metrics and code are logged before exiting.\n",
      "\u001b[1;38;5;39mCOMET INFO:\u001b[0m Experiment is live on comet.com https://www.comet.com/ranxdug/iot/0f124309fb8141db9be2e92beb9b0d26\n",
      "\n",
      "\u001b[1;38;5;39mCOMET INFO:\u001b[0m Couldn't find a Git repository in '/home/ec2-user/SageMaker' nor in any parent directory. Set `COMET_GIT_DIRECTORY` if your Git Repository is elsewhere.\n"
     ]
    },
    {
     "name": "stdout",
     "output_type": "stream",
     "text": [
      "Freezing layer 'model.23.dfl.conv.weight'\n",
      "\u001b[34m\u001b[1mAMP: \u001b[0mrunning Automatic Mixed Precision (AMP) checks...\n",
      "Downloading https://github.com/ultralytics/assets/releases/download/v8.3.0/yolo11n.pt to 'yolo11n.pt'...\n"
     ]
    },
    {
     "name": "stderr",
     "output_type": "stream",
     "text": [
      "100%|██████████| 5.35M/5.35M [00:00<00:00, 225MB/s]\n"
     ]
    },
    {
     "name": "stdout",
     "output_type": "stream",
     "text": [
      "\u001b[34m\u001b[1mAMP: \u001b[0mchecks passed ✅\n",
      "\u001b[34m\u001b[1mtrain: \u001b[0mFast image access ✅ (ping: 0.0±0.0 ms, read: 1721.1±451.5 MB/s, size: 53.4 KB)\n"
     ]
    },
    {
     "name": "stderr",
     "output_type": "stream",
     "text": [
      "\u001b[34m\u001b[1mtrain: \u001b[0mScanning /home/ec2-user/SageMaker/tmp/datasets/train/labels... 10 images, 0 backgrounds, 0 corrupt: 100%|██████████| 10/10 [00:00<00:00, 673.64it/s]"
     ]
    },
    {
     "name": "stdout",
     "output_type": "stream",
     "text": [
      "\u001b[34m\u001b[1mtrain: \u001b[0mNew cache created: /home/ec2-user/SageMaker/tmp/datasets/train/labels.cache\n"
     ]
    },
    {
     "name": "stderr",
     "output_type": "stream",
     "text": [
      "\n"
     ]
    },
    {
     "name": "stdout",
     "output_type": "stream",
     "text": [
      "\u001b[34m\u001b[1mval: \u001b[0mFast image access ✅ (ping: 0.0±0.0 ms, read: 589.8±0.0 MB/s, size: 56.4 KB)\n"
     ]
    },
    {
     "name": "stderr",
     "output_type": "stream",
     "text": [
      "\u001b[34m\u001b[1mval: \u001b[0mScanning /home/ec2-user/SageMaker/tmp/datasets/val/labels... 1 images, 0 backgrounds, 0 corrupt: 100%|██████████| 1/1 [00:00<00:00, 6831.11it/s]"
     ]
    },
    {
     "name": "stdout",
     "output_type": "stream",
     "text": [
      "\u001b[34m\u001b[1mval: \u001b[0mNew cache created: /home/ec2-user/SageMaker/tmp/datasets/val/labels.cache\n"
     ]
    },
    {
     "name": "stderr",
     "output_type": "stream",
     "text": [
      "\n"
     ]
    },
    {
     "name": "stdout",
     "output_type": "stream",
     "text": [
      "Plotting labels to IoT/train/labels.jpg... \n",
      "\u001b[34m\u001b[1moptimizer:\u001b[0m 'optimizer=auto' found, ignoring 'lr0=0.01' and 'momentum=0.937' and determining best 'optimizer', 'lr0' and 'momentum' automatically... \n",
      "\u001b[34m\u001b[1moptimizer:\u001b[0m AdamW(lr=0.000714, momentum=0.9) with parameter groups 185 weight(decay=0.0), 198 weight(decay=0.0005), 197 bias(decay=0.0)\n",
      "Image sizes 640 train, 640 val\n",
      "Using 4 dataloader workers\n",
      "Logging results to \u001b[1mIoT/train\u001b[0m\n",
      "Starting training for 10 epochs...\n",
      "Closing dataloader mosaic\n",
      "\n",
      "      Epoch    GPU_mem   box_loss   cls_loss   dfl_loss  Instances       Size\n"
     ]
    },
    {
     "name": "stderr",
     "output_type": "stream",
     "text": [
      "       1/10      8.82G      3.889      11.29      3.814          4        640: 100%|██████████| 2/2 [00:01<00:00,  1.31it/s]\n",
      "                 Class     Images  Instances      Box(P          R      mAP50  mAP50-95): 100%|██████████| 1/1 [00:00<00:00,  7.55it/s]"
     ]
    },
    {
     "name": "stdout",
     "output_type": "stream",
     "text": [
      "                   all          1          3          0          0          0          0\n"
     ]
    },
    {
     "name": "stderr",
     "output_type": "stream",
     "text": [
      "\n"
     ]
    },
    {
     "name": "stdout",
     "output_type": "stream",
     "text": [
      "\n",
      "      Epoch    GPU_mem   box_loss   cls_loss   dfl_loss  Instances       Size\n"
     ]
    },
    {
     "name": "stderr",
     "output_type": "stream",
     "text": [
      "       2/10      8.85G      5.046      10.33      4.612          4        640: 100%|██████████| 2/2 [00:00<00:00,  2.34it/s]\n",
      "                 Class     Images  Instances      Box(P          R      mAP50  mAP50-95): 100%|██████████| 1/1 [00:00<00:00, 18.74it/s]"
     ]
    },
    {
     "name": "stdout",
     "output_type": "stream",
     "text": [
      "                   all          1          3          0          0          0          0\n"
     ]
    },
    {
     "name": "stderr",
     "output_type": "stream",
     "text": [
      "\n"
     ]
    },
    {
     "name": "stdout",
     "output_type": "stream",
     "text": [
      "\n",
      "      Epoch    GPU_mem   box_loss   cls_loss   dfl_loss  Instances       Size\n"
     ]
    },
    {
     "name": "stderr",
     "output_type": "stream",
     "text": [
      "       3/10      8.97G      4.707      11.64       3.88          3        640: 100%|██████████| 2/2 [00:00<00:00,  2.19it/s]\n",
      "                 Class     Images  Instances      Box(P          R      mAP50  mAP50-95): 100%|██████████| 1/1 [00:00<00:00, 21.28it/s]"
     ]
    },
    {
     "name": "stdout",
     "output_type": "stream",
     "text": [
      "                   all          1          3          0          0          0          0\n"
     ]
    },
    {
     "name": "stderr",
     "output_type": "stream",
     "text": [
      "\n"
     ]
    },
    {
     "name": "stdout",
     "output_type": "stream",
     "text": [
      "\n",
      "      Epoch    GPU_mem   box_loss   cls_loss   dfl_loss  Instances       Size\n"
     ]
    },
    {
     "name": "stderr",
     "output_type": "stream",
     "text": [
      "       4/10      9.08G      4.713      10.09      4.449          3        640: 100%|██████████| 2/2 [00:00<00:00,  2.31it/s]\n",
      "                 Class     Images  Instances      Box(P          R      mAP50  mAP50-95): 100%|██████████| 1/1 [00:00<00:00, 22.27it/s]"
     ]
    },
    {
     "name": "stdout",
     "output_type": "stream",
     "text": [
      "                   all          1          3          0          0          0          0\n"
     ]
    },
    {
     "name": "stderr",
     "output_type": "stream",
     "text": [
      "\n"
     ]
    },
    {
     "name": "stdout",
     "output_type": "stream",
     "text": [
      "\n",
      "      Epoch    GPU_mem   box_loss   cls_loss   dfl_loss  Instances       Size\n"
     ]
    },
    {
     "name": "stderr",
     "output_type": "stream",
     "text": [
      "       5/10      9.15G      3.681       10.2      3.538          5        640: 100%|██████████| 2/2 [00:00<00:00,  2.45it/s]\n",
      "                 Class     Images  Instances      Box(P          R      mAP50  mAP50-95): 100%|██████████| 1/1 [00:00<00:00, 22.27it/s]"
     ]
    },
    {
     "name": "stdout",
     "output_type": "stream",
     "text": [
      "                   all          1          3          0          0          0          0\n"
     ]
    },
    {
     "name": "stderr",
     "output_type": "stream",
     "text": [
      "\n"
     ]
    },
    {
     "name": "stdout",
     "output_type": "stream",
     "text": [
      "\n",
      "      Epoch    GPU_mem   box_loss   cls_loss   dfl_loss  Instances       Size\n"
     ]
    },
    {
     "name": "stderr",
     "output_type": "stream",
     "text": [
      "       6/10      9.15G      4.112      10.43      3.432          4        640: 100%|██████████| 2/2 [00:00<00:00,  2.45it/s]\n",
      "                 Class     Images  Instances      Box(P          R      mAP50  mAP50-95): 100%|██████████| 1/1 [00:00<00:00, 21.27it/s]"
     ]
    },
    {
     "name": "stdout",
     "output_type": "stream",
     "text": [
      "                   all          1          3          0          0          0          0\n"
     ]
    },
    {
     "name": "stderr",
     "output_type": "stream",
     "text": [
      "\n"
     ]
    },
    {
     "name": "stdout",
     "output_type": "stream",
     "text": [
      "\n",
      "      Epoch    GPU_mem   box_loss   cls_loss   dfl_loss  Instances       Size\n"
     ]
    },
    {
     "name": "stderr",
     "output_type": "stream",
     "text": [
      "       7/10      9.15G      4.228      9.928      4.037          5        640: 100%|██████████| 2/2 [00:00<00:00,  2.45it/s]\n",
      "                 Class     Images  Instances      Box(P          R      mAP50  mAP50-95): 100%|██████████| 1/1 [00:00<00:00, 20.58it/s]"
     ]
    },
    {
     "name": "stdout",
     "output_type": "stream",
     "text": [
      "                   all          1          3          0          0          0          0\n"
     ]
    },
    {
     "name": "stderr",
     "output_type": "stream",
     "text": [
      "\n"
     ]
    },
    {
     "name": "stdout",
     "output_type": "stream",
     "text": [
      "\n",
      "      Epoch    GPU_mem   box_loss   cls_loss   dfl_loss  Instances       Size\n"
     ]
    },
    {
     "name": "stderr",
     "output_type": "stream",
     "text": [
      "       8/10      9.15G      4.301      9.129      3.569          5        640: 100%|██████████| 2/2 [00:00<00:00,  2.44it/s]\n",
      "                 Class     Images  Instances      Box(P          R      mAP50  mAP50-95): 100%|██████████| 1/1 [00:00<00:00, 21.94it/s]"
     ]
    },
    {
     "name": "stdout",
     "output_type": "stream",
     "text": [
      "                   all          1          3          0          0          0          0\n"
     ]
    },
    {
     "name": "stderr",
     "output_type": "stream",
     "text": [
      "\n"
     ]
    },
    {
     "name": "stdout",
     "output_type": "stream",
     "text": [
      "\n",
      "      Epoch    GPU_mem   box_loss   cls_loss   dfl_loss  Instances       Size\n"
     ]
    },
    {
     "name": "stderr",
     "output_type": "stream",
     "text": [
      "       9/10      9.15G      4.561      8.945      3.559          3        640: 100%|██████████| 2/2 [00:00<00:00,  2.46it/s]\n",
      "                 Class     Images  Instances      Box(P          R      mAP50  mAP50-95): 100%|██████████| 1/1 [00:00<00:00, 18.14it/s]"
     ]
    },
    {
     "name": "stdout",
     "output_type": "stream",
     "text": [
      "                   all          1          3          0          0          0          0\n"
     ]
    },
    {
     "name": "stderr",
     "output_type": "stream",
     "text": [
      "\n"
     ]
    },
    {
     "name": "stdout",
     "output_type": "stream",
     "text": [
      "\n",
      "      Epoch    GPU_mem   box_loss   cls_loss   dfl_loss  Instances       Size\n"
     ]
    },
    {
     "name": "stderr",
     "output_type": "stream",
     "text": [
      "      10/10      9.15G      3.646      8.714      3.093          4        640: 100%|██████████| 2/2 [00:00<00:00,  2.44it/s]\n",
      "                 Class     Images  Instances      Box(P          R      mAP50  mAP50-95): 100%|██████████| 1/1 [00:00<00:00, 19.92it/s]"
     ]
    },
    {
     "name": "stdout",
     "output_type": "stream",
     "text": [
      "                   all          1          3          0          0          0          0\n"
     ]
    },
    {
     "name": "stderr",
     "output_type": "stream",
     "text": [
      "\n"
     ]
    },
    {
     "name": "stdout",
     "output_type": "stream",
     "text": [
      "\n",
      "10 epochs completed in 0.013 hours.\n",
      "Optimizer stripped from IoT/train/weights/last.pt, 64.1MB\n",
      "Optimizer stripped from IoT/train/weights/best.pt, 64.1MB\n",
      "\n",
      "Validating IoT/train/weights/best.pt...\n",
      "Ultralytics 8.3.111 🚀 Python-3.10.16 torch-2.6.0+cu124 CUDA:0 (Tesla T4, 14918MiB)\n",
      "YOLOv10x summary (fused): 192 layers, 29,406,158 parameters, 0 gradients, 160.0 GFLOPs\n"
     ]
    },
    {
     "name": "stderr",
     "output_type": "stream",
     "text": [
      "                 Class     Images  Instances      Box(P          R      mAP50  mAP50-95): 100%|██████████| 1/1 [00:00<00:00, 49.62it/s]\n"
     ]
    },
    {
     "name": "stdout",
     "output_type": "stream",
     "text": [
      "                   all          1          3          0          0          0          0\n",
      "                   PCT          1          1          0          0          0          0\n",
      "            Free_L_Max          1          1          0          0          0          0\n",
      "   Not_Free_Center_Max          1          1          0          0          0          0\n",
      "Speed: 0.3ms preprocess, 15.8ms inference, 0.0ms loss, 0.2ms postprocess per image\n",
      "Saving IoT/train/predictions.json...\n",
      "Results saved to \u001b[1mIoT/train\u001b[0m\n"
     ]
    },
    {
     "name": "stderr",
     "output_type": "stream",
     "text": [
      "\u001b[1;38;5;39mCOMET INFO:\u001b[0m ---------------------------------------------------------------------------------------\n",
      "\u001b[1;38;5;39mCOMET INFO:\u001b[0m Comet.ml Experiment Summary\n",
      "\u001b[1;38;5;39mCOMET INFO:\u001b[0m ---------------------------------------------------------------------------------------\n",
      "\u001b[1;38;5;39mCOMET INFO:\u001b[0m   Data:\n",
      "\u001b[1;38;5;39mCOMET INFO:\u001b[0m     display_summary_level : 1\n",
      "\u001b[1;38;5;39mCOMET INFO:\u001b[0m     name                  : constitutional_brush_7065\n",
      "\u001b[1;38;5;39mCOMET INFO:\u001b[0m     url                   : https://www.comet.com/ranxdug/iot/0f124309fb8141db9be2e92beb9b0d26\n",
      "\u001b[1;38;5;39mCOMET INFO:\u001b[0m   Metrics [count] (min, max):\n",
      "\u001b[1;38;5;39mCOMET INFO:\u001b[0m     lr/pg0 [11]             : (7.14e-06, 3.96627e-05)\n",
      "\u001b[1;38;5;39mCOMET INFO:\u001b[0m     lr/pg1 [11]             : (7.14e-06, 3.96627e-05)\n",
      "\u001b[1;38;5;39mCOMET INFO:\u001b[0m     lr/pg2 [11]             : (7.14e-06, 3.96627e-05)\n",
      "\u001b[1;38;5;39mCOMET INFO:\u001b[0m     metrics/mAP50(B)        : 0.0\n",
      "\u001b[1;38;5;39mCOMET INFO:\u001b[0m     metrics/mAP50-95(B)     : 0.0\n",
      "\u001b[1;38;5;39mCOMET INFO:\u001b[0m     metrics/precision(B)    : 0.0\n",
      "\u001b[1;38;5;39mCOMET INFO:\u001b[0m     metrics/recall(B)       : 0.0\n",
      "\u001b[1;38;5;39mCOMET INFO:\u001b[0m     model/GFLOPs            : 171.094\n",
      "\u001b[1;38;5;39mCOMET INFO:\u001b[0m     model/parameters        : 31674140\n",
      "\u001b[1;38;5;39mCOMET INFO:\u001b[0m     model/speed_PyTorch(ms) : 111.1\n",
      "\u001b[1;38;5;39mCOMET INFO:\u001b[0m     train/box_loss [10]     : (3.64618, 5.04605)\n",
      "\u001b[1;38;5;39mCOMET INFO:\u001b[0m     train/cls_loss [10]     : (8.71441, 11.63961)\n",
      "\u001b[1;38;5;39mCOMET INFO:\u001b[0m     train/dfl_loss [10]     : (3.09342, 4.61197)\n",
      "\u001b[1;38;5;39mCOMET INFO:\u001b[0m     val/box_loss [10]       : (5.65126, 6.45386)\n",
      "\u001b[1;38;5;39mCOMET INFO:\u001b[0m     val/cls_loss [10]       : (9.46061, 11.03511)\n",
      "\u001b[1;38;5;39mCOMET INFO:\u001b[0m     val/dfl_loss [10]       : (4.81371, 5.20336)\n",
      "\u001b[1;38;5;39mCOMET INFO:\u001b[0m   Others:\n",
      "\u001b[1;38;5;39mCOMET INFO:\u001b[0m     Created from                 : ultralytics\n",
      "\u001b[1;38;5;39mCOMET INFO:\u001b[0m     eval_batch_logging_interval  : 1\n",
      "\u001b[1;38;5;39mCOMET INFO:\u001b[0m     log_confusion_matrix_on_eval : False\n",
      "\u001b[1;38;5;39mCOMET INFO:\u001b[0m     log_image_predictions        : True\n",
      "\u001b[1;38;5;39mCOMET INFO:\u001b[0m     max_image_predictions        : 100\n",
      "\u001b[1;38;5;39mCOMET INFO:\u001b[0m   Parameters:\n",
      "\u001b[1;38;5;39mCOMET INFO:\u001b[0m     agnostic_nms    : False\n",
      "\u001b[1;38;5;39mCOMET INFO:\u001b[0m     amp             : True\n",
      "\u001b[1;38;5;39mCOMET INFO:\u001b[0m     augment         : False\n",
      "\u001b[1;38;5;39mCOMET INFO:\u001b[0m     auto_augment    : randaugment\n",
      "\u001b[1;38;5;39mCOMET INFO:\u001b[0m     batch           : 8\n",
      "\u001b[1;38;5;39mCOMET INFO:\u001b[0m     bgr             : 0.0\n",
      "\u001b[1;38;5;39mCOMET INFO:\u001b[0m     box             : 7.5\n",
      "\u001b[1;38;5;39mCOMET INFO:\u001b[0m     cache           : False\n",
      "\u001b[1;38;5;39mCOMET INFO:\u001b[0m     cfg             : None\n",
      "\u001b[1;38;5;39mCOMET INFO:\u001b[0m     classes         : None\n",
      "\u001b[1;38;5;39mCOMET INFO:\u001b[0m     close_mosaic    : 10\n",
      "\u001b[1;38;5;39mCOMET INFO:\u001b[0m     cls             : 0.5\n",
      "\u001b[1;38;5;39mCOMET INFO:\u001b[0m     conf            : None\n",
      "\u001b[1;38;5;39mCOMET INFO:\u001b[0m     copy_paste      : 0.0\n",
      "\u001b[1;38;5;39mCOMET INFO:\u001b[0m     copy_paste_mode : flip\n",
      "\u001b[1;38;5;39mCOMET INFO:\u001b[0m     cos_lr          : False\n",
      "\u001b[1;38;5;39mCOMET INFO:\u001b[0m     data            : /home/ec2-user/SageMaker/tmp/datasets/data.yaml\n",
      "\u001b[1;38;5;39mCOMET INFO:\u001b[0m     degrees         : 0.0\n",
      "\u001b[1;38;5;39mCOMET INFO:\u001b[0m     deterministic   : True\n",
      "\u001b[1;38;5;39mCOMET INFO:\u001b[0m     device          : None\n",
      "\u001b[1;38;5;39mCOMET INFO:\u001b[0m     dfl             : 1.5\n",
      "\u001b[1;38;5;39mCOMET INFO:\u001b[0m     dnn             : False\n",
      "\u001b[1;38;5;39mCOMET INFO:\u001b[0m     dropout         : 0.0\n",
      "\u001b[1;38;5;39mCOMET INFO:\u001b[0m     dynamic         : False\n",
      "\u001b[1;38;5;39mCOMET INFO:\u001b[0m     embed           : None\n",
      "\u001b[1;38;5;39mCOMET INFO:\u001b[0m     epochs          : 10\n",
      "\u001b[1;38;5;39mCOMET INFO:\u001b[0m     erasing         : 0.4\n",
      "\u001b[1;38;5;39mCOMET INFO:\u001b[0m     exist_ok        : False\n",
      "\u001b[1;38;5;39mCOMET INFO:\u001b[0m     fliplr          : 0.5\n",
      "\u001b[1;38;5;39mCOMET INFO:\u001b[0m     flipud          : 0.0\n",
      "\u001b[1;38;5;39mCOMET INFO:\u001b[0m     format          : torchscript\n",
      "\u001b[1;38;5;39mCOMET INFO:\u001b[0m     fraction        : 1.0\n",
      "\u001b[1;38;5;39mCOMET INFO:\u001b[0m     freeze          : None\n",
      "\u001b[1;38;5;39mCOMET INFO:\u001b[0m     half            : False\n",
      "\u001b[1;38;5;39mCOMET INFO:\u001b[0m     hsv_h           : 0.015\n",
      "\u001b[1;38;5;39mCOMET INFO:\u001b[0m     hsv_s           : 0.7\n",
      "\u001b[1;38;5;39mCOMET INFO:\u001b[0m     hsv_v           : 0.4\n",
      "\u001b[1;38;5;39mCOMET INFO:\u001b[0m     imgsz           : 640\n",
      "\u001b[1;38;5;39mCOMET INFO:\u001b[0m     int8            : False\n",
      "\u001b[1;38;5;39mCOMET INFO:\u001b[0m     iou             : 0.7\n",
      "\u001b[1;38;5;39mCOMET INFO:\u001b[0m     keras           : False\n",
      "\u001b[1;38;5;39mCOMET INFO:\u001b[0m     kobj            : 1.0\n",
      "\u001b[1;38;5;39mCOMET INFO:\u001b[0m     line_width      : None\n",
      "\u001b[1;38;5;39mCOMET INFO:\u001b[0m     lr0             : 0.01\n",
      "\u001b[1;38;5;39mCOMET INFO:\u001b[0m     lrf             : 0.01\n",
      "\u001b[1;38;5;39mCOMET INFO:\u001b[0m     mask_ratio      : 4\n",
      "\u001b[1;38;5;39mCOMET INFO:\u001b[0m     max_det         : 300\n",
      "\u001b[1;38;5;39mCOMET INFO:\u001b[0m     mixup           : 0.0\n",
      "\u001b[1;38;5;39mCOMET INFO:\u001b[0m     mode            : train\n",
      "\u001b[1;38;5;39mCOMET INFO:\u001b[0m     model           : tmp/datasets/latest_model.pt\n",
      "\u001b[1;38;5;39mCOMET INFO:\u001b[0m     momentum        : 0.937\n",
      "\u001b[1;38;5;39mCOMET INFO:\u001b[0m     mosaic          : 1.0\n",
      "\u001b[1;38;5;39mCOMET INFO:\u001b[0m     multi_scale     : False\n",
      "\u001b[1;38;5;39mCOMET INFO:\u001b[0m     name            : train\n",
      "\u001b[1;38;5;39mCOMET INFO:\u001b[0m     nbs             : 64\n",
      "\u001b[1;38;5;39mCOMET INFO:\u001b[0m     nms             : False\n",
      "\u001b[1;38;5;39mCOMET INFO:\u001b[0m     opset           : None\n",
      "\u001b[1;38;5;39mCOMET INFO:\u001b[0m     optimize        : False\n",
      "\u001b[1;38;5;39mCOMET INFO:\u001b[0m     optimizer       : auto\n",
      "\u001b[1;38;5;39mCOMET INFO:\u001b[0m     overlap_mask    : True\n",
      "\u001b[1;38;5;39mCOMET INFO:\u001b[0m     patience        : 100\n",
      "\u001b[1;38;5;39mCOMET INFO:\u001b[0m     perspective     : 0.0\n",
      "\u001b[1;38;5;39mCOMET INFO:\u001b[0m     plots           : True\n",
      "\u001b[1;38;5;39mCOMET INFO:\u001b[0m     pose            : 12.0\n",
      "\u001b[1;38;5;39mCOMET INFO:\u001b[0m     pretrained      : True\n",
      "\u001b[1;38;5;39mCOMET INFO:\u001b[0m     profile         : False\n",
      "\u001b[1;38;5;39mCOMET INFO:\u001b[0m     project         : IoT\n",
      "\u001b[1;38;5;39mCOMET INFO:\u001b[0m     rect            : False\n",
      "\u001b[1;38;5;39mCOMET INFO:\u001b[0m     resume          : False\n",
      "\u001b[1;38;5;39mCOMET INFO:\u001b[0m     retina_masks    : False\n",
      "\u001b[1;38;5;39mCOMET INFO:\u001b[0m     save            : True\n",
      "\u001b[1;38;5;39mCOMET INFO:\u001b[0m     save_conf       : False\n",
      "\u001b[1;38;5;39mCOMET INFO:\u001b[0m     save_crop       : False\n",
      "\u001b[1;38;5;39mCOMET INFO:\u001b[0m     save_dir        : IoT/train\n",
      "\u001b[1;38;5;39mCOMET INFO:\u001b[0m     save_frames     : False\n",
      "\u001b[1;38;5;39mCOMET INFO:\u001b[0m     save_json       : True\n",
      "\u001b[1;38;5;39mCOMET INFO:\u001b[0m     save_period     : 1\n",
      "\u001b[1;38;5;39mCOMET INFO:\u001b[0m     save_txt        : False\n",
      "\u001b[1;38;5;39mCOMET INFO:\u001b[0m     scale           : 0.5\n",
      "\u001b[1;38;5;39mCOMET INFO:\u001b[0m     seed            : 0\n",
      "\u001b[1;38;5;39mCOMET INFO:\u001b[0m     shear           : 0.0\n",
      "\u001b[1;38;5;39mCOMET INFO:\u001b[0m     show            : False\n",
      "\u001b[1;38;5;39mCOMET INFO:\u001b[0m     show_boxes      : True\n",
      "\u001b[1;38;5;39mCOMET INFO:\u001b[0m     show_conf       : True\n",
      "\u001b[1;38;5;39mCOMET INFO:\u001b[0m     show_labels     : True\n",
      "\u001b[1;38;5;39mCOMET INFO:\u001b[0m     simplify        : True\n",
      "\u001b[1;38;5;39mCOMET INFO:\u001b[0m     single_cls      : False\n",
      "\u001b[1;38;5;39mCOMET INFO:\u001b[0m     source          : None\n",
      "\u001b[1;38;5;39mCOMET INFO:\u001b[0m     split           : val\n",
      "\u001b[1;38;5;39mCOMET INFO:\u001b[0m     stream_buffer   : False\n",
      "\u001b[1;38;5;39mCOMET INFO:\u001b[0m     task            : detect\n",
      "\u001b[1;38;5;39mCOMET INFO:\u001b[0m     time            : None\n",
      "\u001b[1;38;5;39mCOMET INFO:\u001b[0m     tracker         : botsort.yaml\n",
      "\u001b[1;38;5;39mCOMET INFO:\u001b[0m     translate       : 0.1\n",
      "\u001b[1;38;5;39mCOMET INFO:\u001b[0m     val             : True\n",
      "\u001b[1;38;5;39mCOMET INFO:\u001b[0m     verbose         : True\n",
      "\u001b[1;38;5;39mCOMET INFO:\u001b[0m     vid_stride      : 1\n",
      "\u001b[1;38;5;39mCOMET INFO:\u001b[0m     visualize       : False\n",
      "\u001b[1;38;5;39mCOMET INFO:\u001b[0m     warmup_bias_lr  : 0.1\n",
      "\u001b[1;38;5;39mCOMET INFO:\u001b[0m     warmup_epochs   : 3.0\n",
      "\u001b[1;38;5;39mCOMET INFO:\u001b[0m     warmup_momentum : 0.8\n",
      "\u001b[1;38;5;39mCOMET INFO:\u001b[0m     weight_decay    : 0.0005\n",
      "\u001b[1;38;5;39mCOMET INFO:\u001b[0m     workers         : 8\n",
      "\u001b[1;38;5;39mCOMET INFO:\u001b[0m     workspace       : None\n",
      "\u001b[1;38;5;39mCOMET INFO:\u001b[0m   Uploads:\n",
      "\u001b[1;38;5;39mCOMET INFO:\u001b[0m     conda-environment-definition : 1\n",
      "\u001b[1;38;5;39mCOMET INFO:\u001b[0m     conda-info                   : 1\n",
      "\u001b[1;38;5;39mCOMET INFO:\u001b[0m     conda-specification          : 1\n",
      "\u001b[1;38;5;39mCOMET INFO:\u001b[0m     confusion-matrix             : 1\n",
      "\u001b[1;38;5;39mCOMET INFO:\u001b[0m     environment details          : 1\n",
      "\u001b[1;38;5;39mCOMET INFO:\u001b[0m     filename                     : 1\n",
      "\u001b[1;38;5;39mCOMET INFO:\u001b[0m     images                       : 23\n",
      "\u001b[1;38;5;39mCOMET INFO:\u001b[0m     installed packages           : 1\n",
      "\u001b[1;38;5;39mCOMET INFO:\u001b[0m     model-element                : 10 (1.43 GB)\n",
      "\u001b[1;38;5;39mCOMET INFO:\u001b[0m     notebook                     : 1\n",
      "\u001b[1;38;5;39mCOMET INFO:\u001b[0m     source_code                  : 1\n",
      "\u001b[1;38;5;39mCOMET INFO:\u001b[0m \n",
      "\u001b[1;38;5;214mCOMET WARNING:\u001b[0m To get all data logged automatically, import comet_ml before the following modules: torch.\n",
      "\u001b[1;38;5;39mCOMET INFO:\u001b[0m Please wait for assets to finish uploading (timeout is 10800 seconds)\n",
      "\u001b[1;38;5;39mCOMET INFO:\u001b[0m Still uploading 3 file(s), remaining 166.11 MB/426.11 MB\n"
     ]
    }
   ],
   "source": [
    "# Load a model\n",
    "model = YOLO(local_model_path)  # load a pretrained model (recommended for training)\n",
    "\n",
    "# Train the model\n",
    "results = model.train(\n",
    "    data=local_yaml_path,\n",
    "    epochs=10,\n",
    "    imgsz=640,\n",
    "    batch=8,\n",
    "    project=\"IoT\",\n",
    "    save_period=1,\n",
    "    save_json=True,\n",
    ")"
   ]
  },
  {
   "cell_type": "markdown",
   "id": "c6cd89f2-e8d4-45d1-be75-4323bb220578",
   "metadata": {},
   "source": [
    "# Test Model Accuracy"
   ]
  },
  {
   "cell_type": "code",
   "execution_count": 18,
   "id": "a6262d32-e2dd-4ff4-a786-88ed32e14b24",
   "metadata": {},
   "outputs": [
    {
     "name": "stdout",
     "output_type": "stream",
     "text": [
      "Ultralytics 8.3.111 🚀 Python-3.10.16 torch-2.6.0+cu124 CUDA:0 (Tesla T4, 14918MiB)\n",
      "YOLOv10x summary (fused): 192 layers, 29,406,158 parameters, 0 gradients, 160.0 GFLOPs\n",
      "\u001b[34m\u001b[1mval: \u001b[0mFast image access ✅ (ping: 0.0±0.0 ms, read: 1807.4±0.0 MB/s, size: 56.4 KB)\n"
     ]
    },
    {
     "name": "stderr",
     "output_type": "stream",
     "text": [
      "\u001b[34m\u001b[1mval: \u001b[0mScanning /home/ec2-user/SageMaker/tmp/datasets/val/labels.cache... 1 images, 0 backgrounds, 0 corrupt: 100%|██████████| 1/1 [00:00<?, ?it/s]\n",
      "                 Class     Images  Instances      Box(P          R      mAP50  mAP50-95): 100%|██████████| 1/1 [00:00<00:00, 18.66it/s]\n"
     ]
    },
    {
     "name": "stdout",
     "output_type": "stream",
     "text": [
      "                   all          1          3          0          0          0          0\n",
      "                   PCT          1          1          0          0          0          0\n",
      "            Free_L_Max          1          1          0          0          0          0\n",
      "   Not_Free_Center_Max          1          1          0          0          0          0\n",
      "Speed: 0.6ms preprocess, 45.2ms inference, 0.0ms loss, 0.2ms postprocess per image\n",
      "Saving IoT/train2/predictions.json...\n",
      "Results saved to \u001b[1mIoT/train2\u001b[0m\n"
     ]
    },
    {
     "data": {
      "text/plain": [
       "array([          0,           0,           0,           0,           0,           0,           0,           0,           0,           0])"
      ]
     },
     "execution_count": 18,
     "metadata": {},
     "output_type": "execute_result"
    }
   ],
   "source": [
    "# Validate the model\n",
    "metrics = model.val()  # no arguments needed, dataset and settings remembered\n",
    "metrics.box.map  # map50-95\n",
    "metrics.box.map50  # map50\n",
    "metrics.box.map75  # map75\n",
    "metrics.box.maps  # a list contains map50-95 of each category"
   ]
  },
  {
   "cell_type": "markdown",
   "id": "f6a4d61c-12dc-4186-be30-9d34584a4717",
   "metadata": {},
   "source": [
    "# Save best.pt and last.pt to S3"
   ]
  },
  {
   "cell_type": "code",
   "execution_count": 19,
   "id": "ca54ca40-b89f-4726-9ee7-19da336f18bc",
   "metadata": {},
   "outputs": [
    {
     "name": "stdout",
     "output_type": "stream",
     "text": [
      "✅ Uploaded best.pt to s3://edge-ai-s3/models/2025/04/19/best.pt\n",
      "✅ Uploaded last.pt to s3://edge-ai-s3/models/2025/04/19/last.pt\n"
     ]
    }
   ],
   "source": [
    "# Define the local model path (update if you saved elsewhere)\n",
    "MODEL_DIR = \"/home/ec2-user/SageMaker/IoT/train/weights\"\n",
    "BEST_MODEL = os.path.join(MODEL_DIR, \"best.pt\")\n",
    "LAST_MODEL = os.path.join(MODEL_DIR, \"last.pt\")\n",
    "\n",
    "# Create destination S3 path using current date\n",
    "now = datetime.now()\n",
    "s3_prefix = f\"models/{now.year}/{now.month:02}/{now.day:02}\"\n",
    "\n",
    "# Upload files\n",
    "def upload_model(file_path, file_name):\n",
    "    s3_path = f\"{s3_prefix}/{file_name}\"\n",
    "    s3.upload_file(file_path, BUCKET_NAME, s3_path)\n",
    "    print(f\"✅ Uploaded {file_name} to s3://{BUCKET_NAME}/{s3_path}\")\n",
    "\n",
    "upload_model(BEST_MODEL, \"best.pt\")\n",
    "upload_model(LAST_MODEL, \"last.pt\")"
   ]
  },
  {
   "cell_type": "code",
   "execution_count": 20,
   "id": "8b9e44af-67c1-496a-aafa-1d80fb26d9e8",
   "metadata": {},
   "outputs": [],
   "source": [
    "def move_images_to_all_data():\n",
    "    \"\"\" \n",
    "    Move all the images that have been trained to the training_data/all_data/yyyy/MM/dd\n",
    "    \"\"\"\n",
    "    date_path = datetime.utcnow().strftime('%Y/%m/%d')\n",
    "    destination_prefix = f\"training_data/all_data/{date_path}/\"\n",
    "\n",
    "    folders_to_move = {\n",
    "        'images': 'training_data/new_data/images/',\n",
    "        'txt_files': 'training_data/new_data/txt_files/'\n",
    "    }\n",
    "\n",
    "    for file_type, prefix in folders_to_move.items():\n",
    "        response = s3.list_objects_v2(Bucket=BUCKET_NAME, Prefix=prefix)\n",
    "\n",
    "        if 'Contents' not in response:\n",
    "            print(f\"No files found in {prefix}\")\n",
    "            continue\n",
    "\n",
    "        for obj in response['Contents']:\n",
    "            source_key = obj['Key']\n",
    "            if source_key.endswith('/'):\n",
    "                continue  # skip folders\n",
    "\n",
    "            file_name = source_key.split('/')[-1]\n",
    "            destination_key = f\"{destination_prefix}{file_name}\"\n",
    "\n",
    "            # Copy the object\n",
    "            s3.copy_object(\n",
    "                Bucket=BUCKET_NAME,\n",
    "                CopySource={'Bucket': BUCKET_NAME, 'Key': source_key},\n",
    "                Key=destination_key\n",
    "            )\n",
    "\n",
    "            # Delete the original object\n",
    "            s3.delete_object(Bucket=BUCKET_NAME, Key=source_key)\n",
    "            print(f\"Moved: {source_key} -> {destination_key}\")"
   ]
  },
  {
   "cell_type": "code",
   "execution_count": 21,
   "id": "ed1c1cd0-6fb2-44f6-96ca-29e7452c48e4",
   "metadata": {},
   "outputs": [
    {
     "name": "stdout",
     "output_type": "stream",
     "text": [
      "Moved: training_data/new_data/images/10_789_20250419155551.jpg -> training_data/all_data/2025/04/19/10_789_20250419155551.jpg\n",
      "Moved: training_data/new_data/images/11_789_20250419160133.jpg -> training_data/all_data/2025/04/19/11_789_20250419160133.jpg\n",
      "Moved: training_data/new_data/images/1_789_20250419120151.jpg -> training_data/all_data/2025/04/19/1_789_20250419120151.jpg\n",
      "Moved: training_data/new_data/images/1_VRFReMfzWFVwbyL3cu5vcaQGu5N2_20250419162627.jpg -> training_data/all_data/2025/04/19/1_VRFReMfzWFVwbyL3cu5vcaQGu5N2_20250419162627.jpg\n",
      "Moved: training_data/new_data/images/2_789_20250419121153.jpg -> training_data/all_data/2025/04/19/2_789_20250419121153.jpg\n",
      "Moved: training_data/new_data/images/2_VRFReMfzWFVwbyL3cu5vcaQGu5N2_20250419162802.jpg -> training_data/all_data/2025/04/19/2_VRFReMfzWFVwbyL3cu5vcaQGu5N2_20250419162802.jpg\n",
      "Moved: training_data/new_data/images/3_789_20250419121525.jpg -> training_data/all_data/2025/04/19/3_789_20250419121525.jpg\n",
      "Moved: training_data/new_data/images/4_789_20250419121603.jpg -> training_data/all_data/2025/04/19/4_789_20250419121603.jpg\n",
      "Moved: training_data/new_data/images/5_789_20250419121631.jpg -> training_data/all_data/2025/04/19/5_789_20250419121631.jpg\n",
      "Moved: training_data/new_data/images/8_789_20250419153055.jpg -> training_data/all_data/2025/04/19/8_789_20250419153055.jpg\n",
      "Moved: training_data/new_data/images/9_789_20250419155239.jpg -> training_data/all_data/2025/04/19/9_789_20250419155239.jpg\n",
      "Moved: training_data/new_data/txt_files/10_789_20250419155551.txt -> training_data/all_data/2025/04/19/10_789_20250419155551.txt\n",
      "Moved: training_data/new_data/txt_files/11_789_20250419160133.txt -> training_data/all_data/2025/04/19/11_789_20250419160133.txt\n",
      "Moved: training_data/new_data/txt_files/1_789_20250419120151.txt -> training_data/all_data/2025/04/19/1_789_20250419120151.txt\n",
      "Moved: training_data/new_data/txt_files/1_VRFReMfzWFVwbyL3cu5vcaQGu5N2_20250419162627.txt -> training_data/all_data/2025/04/19/1_VRFReMfzWFVwbyL3cu5vcaQGu5N2_20250419162627.txt\n",
      "Moved: training_data/new_data/txt_files/2_789_20250419121153.txt -> training_data/all_data/2025/04/19/2_789_20250419121153.txt\n",
      "Moved: training_data/new_data/txt_files/2_VRFReMfzWFVwbyL3cu5vcaQGu5N2_20250419162802.txt -> training_data/all_data/2025/04/19/2_VRFReMfzWFVwbyL3cu5vcaQGu5N2_20250419162802.txt\n",
      "Moved: training_data/new_data/txt_files/3_789_20250419121525.txt -> training_data/all_data/2025/04/19/3_789_20250419121525.txt\n",
      "Moved: training_data/new_data/txt_files/4_789_20250419121603.txt -> training_data/all_data/2025/04/19/4_789_20250419121603.txt\n",
      "Moved: training_data/new_data/txt_files/5_789_20250419121631.txt -> training_data/all_data/2025/04/19/5_789_20250419121631.txt\n",
      "Moved: training_data/new_data/txt_files/8_789_20250419153055.txt -> training_data/all_data/2025/04/19/8_789_20250419153055.txt\n",
      "Moved: training_data/new_data/txt_files/9_789_20250419155239.txt -> training_data/all_data/2025/04/19/9_789_20250419155239.txt\n"
     ]
    }
   ],
   "source": [
    "move_images_to_all_data()"
   ]
  },
  {
   "cell_type": "code",
   "execution_count": 22,
   "id": "61dfa2c1-2049-4159-b6fa-71f66fcb4526",
   "metadata": {},
   "outputs": [],
   "source": [
    "# Clean training runs\n",
    "!rm -rf /home/ec2-user/SageMaker/IoT\n",
    "\n",
    "# Clean temporary datasets\n",
    "!rm -rf /home/ec2-user/SageMaker/tmp\n",
    "\n",
    "# Clean SageMaker Trash completely\n",
    "!rm -rf /home/ec2-user/SageMaker/yolo11n.pt"
   ]
  },
  {
   "cell_type": "code",
   "execution_count": null,
   "id": "104ffcac-9b06-41f0-9a03-e2999b19333b",
   "metadata": {},
   "outputs": [],
   "source": []
  }
 ],
 "metadata": {
  "kernelspec": {
   "display_name": "conda_python3",
   "language": "python",
   "name": "conda_python3"
  },
  "language_info": {
   "codemirror_mode": {
    "name": "ipython",
    "version": 3
   },
   "file_extension": ".py",
   "mimetype": "text/x-python",
   "name": "python",
   "nbconvert_exporter": "python",
   "pygments_lexer": "ipython3",
   "version": "3.10.16"
  }
 },
 "nbformat": 4,
 "nbformat_minor": 5
}
